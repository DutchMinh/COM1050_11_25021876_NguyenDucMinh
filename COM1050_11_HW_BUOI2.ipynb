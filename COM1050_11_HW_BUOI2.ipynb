{
 "cells": [
  {
   "cell_type": "code",
   "execution_count": null,
   "id": "5fd033db",
   "metadata": {},
   "outputs": [],
   "source": [
    "#ex1\n",
    "n = int(input())\n",
    "print((n*2))\n"
   ]
  },
  {
   "cell_type": "code",
   "execution_count": null,
   "id": "956110fe",
   "metadata": {},
   "outputs": [],
   "source": [
    "#ex2\n",
    "a = float(input(\"Nhập chiều rộng:\"))\n",
    "b = float(input(\"Nhập chiều dài:\"))\n",
    "if a>b:\n",
    "    print(\"Không thỏa mãn\")\n",
    "else:\n",
    "    s = (a * b) - ((a / 2) ** 2) * 3.14\n",
    "    print(\"Diện tích trồng cây:\", round(s,2))\t\n"
   ]
  },
  {
   "cell_type": "code",
   "execution_count": null,
   "id": "e6955b32",
   "metadata": {},
   "outputs": [],
   "source": [
    "#ex3\n",
    "c = input(\"Nhập kí tự:\")\n",
    "if c.isupper():\n",
    "    print(chr(ord(c)+32))\n",
    "elif c.islower():\n",
    "    print(chr(ord(c)-32))\n",
    "else:\n",
    "    print(\"Không phải chữ cái\")\n",
    "    \n"
   ]
  },
  {
   "cell_type": "code",
   "execution_count": null,
   "id": "6992b9e4",
   "metadata": {},
   "outputs": [],
   "source": [
    "#ex4\n",
    "c = input(\"Nhập kí tự:\")\n",
    "if c.isalpha():\n",
    "    print(f\"{c} là kí tự alphabet\")\n",
    "else:\n",
    "    print(f\"{c} không là kí tự alphabet\")\n"
   ]
  },
  {
   "cell_type": "code",
   "execution_count": null,
   "id": "763ee7f3",
   "metadata": {},
   "outputs": [],
   "source": [
    "#ex5\n",
    "c = input(\"Nhập chữ cái in hoa:\")\n",
    "if c != \"A\":\n",
    "    char = chr(ord(c) + 32 - 1)\n",
    "    print(char)\n",
    "else:\n",
    "    print(\"Trường hợp đặc biệt\")\n"
   ]
  },
  {
   "cell_type": "code",
   "execution_count": null,
   "id": "ecad3708",
   "metadata": {},
   "outputs": [],
   "source": [
    "#ex6\n",
    "print(\"Nhập 3 cạnh tam giác\")\n",
    "a = float(input(\"a = \"))\n",
    "b = float(input(\"b = \"))\n",
    "c = float(input(\"c = \"))\n",
    "hp = (a+b+c) / 2\n",
    "import math\n",
    "def dien_tich():\n",
    "    s = math.sqrt(hp * (hp-a) * (hp-b) * (hp-c))\n",
    "    return s\n",
    "if (a + b) > c and (a+c)>b and (b+c)>a:\n",
    "    print(\"Diện tích tam giác:\", dien_tich())\n",
    "else:\n",
    "    print(\"Không phải 3 cạnh của 1 tam giác\")\n",
    "    \n"
   ]
  },
  {
   "cell_type": "code",
   "execution_count": null,
   "id": "2a599f7a",
   "metadata": {},
   "outputs": [],
   "source": [
    "#ex7\n",
    "string = str(input(\"Nhập chuỗi (lớn hơn bằng 20 kí tự):\"))\n",
    "if len(string) >= 20:\n",
    "    print(string[4], string[8], sep=',')\n",
    "else:\n",
    "    print(\"Chuỗi không hợp lệ\")\n"
   ]
  },
  {
   "cell_type": "code",
   "execution_count": null,
   "id": "ff5cd9ed",
   "metadata": {},
   "outputs": [],
   "source": [
    "#ex8\n",
    "#thông tin chủ hộ\n",
    "name = str(input(\"Tên chủ hộ:\"))\n",
    "a = int(input(\"Chỉ số tháng trước:\"))\n",
    "b = int(input(\"Chỉ số tháng này:\"))\n",
    "#tính tiền điện\n",
    "x = b - a\n",
    "def elc_price(x):\n",
    "    level = [50, 50, 100, 100, 100, float('inf')]\n",
    "    don_gia = [1984, 2050, 2380, 2998, 3350, 3460]\n",
    "    subtotal = 0\n",
    "    for m, n in zip(level, don_gia):\n",
    "        take = min(x, m)\n",
    "        subtotal += take * n\n",
    "        x -= take\n",
    "        if x <= 0:\n",
    "            break\n",
    "    return subtotal\n",
    "k = elc_price(x)\n",
    "total = k + k*0.08\n",
    "#output\n",
    "print(\"Họ và tên:\", name)\n",
    "print(\"Tiền điện phải đóng:\", int(round(total,0)))\n",
    "    \n",
    "\n"
   ]
  }
 ],
 "metadata": {
  "kernelspec": {
   "display_name": "Python 3",
   "language": "python",
   "name": "python3"
  },
  "language_info": {
   "codemirror_mode": {
    "name": "ipython",
    "version": 3
   },
   "file_extension": ".py",
   "mimetype": "text/x-python",
   "name": "python",
   "nbconvert_exporter": "python",
   "pygments_lexer": "ipython3",
   "version": "3.11.9"
  }
 },
 "nbformat": 4,
 "nbformat_minor": 5
}
