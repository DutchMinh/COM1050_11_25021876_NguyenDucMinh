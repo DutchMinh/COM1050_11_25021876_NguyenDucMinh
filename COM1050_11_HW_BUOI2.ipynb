n = int(input())
print((n*2))
a = float(input("Nhập chiều rộng:"))
b = float(input("Nhập chiều dài:"))
if a>b:
    print("Không thỏa mãn")
else:
    s = (a * b) - ((a / 2) ** 2) * 3.14
    print("Diện tích trồng cây:", round(s,2))	
