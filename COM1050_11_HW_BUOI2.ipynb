{
 "cells": [
  {
   "cell_type": "code",
   "execution_count": null,
   "id": "5fd033db",
   "metadata": {},
   "outputs": [],
   "source": [
    "print('1234')"
   ]
  }
 ],
 "metadata": {
  "language_info": {
   "name": "python"
  }
 },
 "nbformat": 4,
 "nbformat_minor": 5
}
