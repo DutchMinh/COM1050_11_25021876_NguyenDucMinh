{
 "cells": [
  {
   "cell_type": "code",
   "execution_count": null,
   "id": "46f67f47",
   "metadata": {},
   "outputs": [],
   "source": [
    "#ex1\n",
    "num = str(int(input(\"Nhập số nguyên n:\")))\n",
    "print(\"Số đảo ngược của n là:\", num[::-1])"
   ]
  },
  {
   "cell_type": "code",
   "execution_count": null,
   "id": "180005ac",
   "metadata": {},
   "outputs": [],
   "source": []
  }
 ],
 "metadata": {
  "kernelspec": {
   "display_name": "Python 3",
   "language": "python",
   "name": "python3"
  },
  "language_info": {
   "codemirror_mode": {
    "name": "ipython",
    "version": 3
   },
   "file_extension": ".py",
   "mimetype": "text/x-python",
   "name": "python",
   "nbconvert_exporter": "python",
   "pygments_lexer": "ipython3",
   "version": "3.11.9"
  }
 },
 "nbformat": 4,
 "nbformat_minor": 5
}
